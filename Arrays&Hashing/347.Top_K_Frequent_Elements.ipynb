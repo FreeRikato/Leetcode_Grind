{
 "cells": [
  {
   "cell_type": "markdown",
   "metadata": {},
   "source": [
    "# 347. Top K Frequent Elments\n",
    "## Medium"
   ]
  },
  {
   "cell_type": "markdown",
   "metadata": {},
   "source": [
    "- Using counter to count the frequency of each element\n",
    "- most_common(k) to get the top k frequent elements\n",
    "- return the keys of the top k frequent elements using list comprehension"
   ]
  },
  {
   "cell_type": "code",
   "execution_count": null,
   "metadata": {},
   "outputs": [],
   "source": [
    "frequent_elements = Counter(nums).most_common(k)\n",
    "return [frequent_elements[i][0] for i in range(k)]"
   ]
  },
  {
   "cell_type": "markdown",
   "metadata": {},
   "source": [
    "- Bucket sort is used to sort the elements by their frequency\n",
    "- The index of the bucket is the frequency of the element\n",
    "- The value of the bucket is the list of elements with the same frequency\n",
    "- The bucket is iterated in reverse order\n",
    "- The result is the concatenation of the first k buckets\n",
    "- Time Complexity: O(n)"
   ]
  },
  {
   "cell_type": "code",
   "execution_count": null,
   "metadata": {},
   "outputs": [],
   "source": [
    "count = Counter(nums)\n",
    "freq = [[] for i in range(len(nums) + 1)]\n",
    "for key, value in count.items():\n",
    "    freq[value].append(key)\n",
    "print(freq)\n",
    "res = []\n",
    "for i in range(len(freq)-1, 0, -1):\n",
    "    for j in freq[i]:\n",
    "        res.append(j)\n",
    "        if len(res) == k:\n",
    "            return res"
   ]
  },
  {
   "cell_type": "markdown",
   "metadata": {},
   "source": [
    "- sorted() is used to sort the elements by their frequency\n",
    "- The key is the frequency of the element\n",
    "- The value is the element\n",
    "- The result is the first k elements of the sorted list\n",
    "- Time Complexity: O(nlogn)"
   ]
  },
  {
   "cell_type": "code",
   "execution_count": null,
   "metadata": {},
   "outputs": [],
   "source": [
    "num_to_freq = Counter(nums)\n",
    "num_sort_by_freq = sorted(num_to_freq.keys(), key=lambda n: num_to_freq[n], reverse=True)\n",
    "return num_sort_by_freq[:k]"
   ]
  },
  {
   "cell_type": "markdown",
   "metadata": {},
   "source": [
    "- Heap is used to sort the elements by their frequency\n",
    "- The key is the frequency of the element\n",
    "- The value is the element\n",
    "- The result is the first k elements of the heap\n",
    "- Time Complexity: O(nlogk)"
   ]
  },
  {
   "cell_type": "code",
   "execution_count": null,
   "metadata": {},
   "outputs": [],
   "source": [
    "num_to_freq = Counter(nums)\n",
    "heap = [(v,k) for k,v in num_to_freq.items()]\n",
    "heapq.heapify(heap)\n",
    "result = heapq.nlargest(k,heap)\n",
    "return [num for freq, num in result]"
   ]
  }
 ],
 "metadata": {
  "language_info": {
   "name": "python"
  }
 },
 "nbformat": 4,
 "nbformat_minor": 2
}
