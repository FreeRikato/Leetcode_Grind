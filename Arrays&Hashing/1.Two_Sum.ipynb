{
 "cells": [
  {
   "cell_type": "markdown",
   "metadata": {},
   "source": [
    "# 1. Two Sum\n",
    "## Easy"
   ]
  },
  {
   "cell_type": "markdown",
   "metadata": {},
   "source": [
    ">1\n",
    "- Hashing with dictionary\n",
    "- Time complexity: O(n)\n",
    "- One pass hash table"
   ]
  },
  {
   "cell_type": "code",
   "execution_count": null,
   "metadata": {},
   "outputs": [],
   "source": [
    "twosum = dict()\n",
    "for i in range(len(nums)):\n",
    "    complement = target - nums[i]\n",
    "    if complement in twosum:\n",
    "        return [twosum[complement], i]\n",
    "    twosum[nums[i]] = i"
   ]
  },
  {
   "cell_type": "markdown",
   "metadata": {},
   "source": [
    ">2\n",
    "- Hashing with defaultdict\n",
    "- Time complexity: O(n)\n",
    "- Two pass hash table"
   ]
  },
  {
   "cell_type": "code",
   "execution_count": null,
   "metadata": {},
   "outputs": [],
   "source": [
    "twosum = defaultdict(int)\n",
    "for i in range(len(nums)):\n",
    "    twosum[nums[i]] = i\n",
    "for i in range(len(nums)):\n",
    "    complement = target - nums[i]\n",
    "    if complement in twosum and twosum[complement] != i:\n",
    "        return [i, twosum[complement]]\n",
    "return []"
   ]
  },
  {
   "cell_type": "markdown",
   "metadata": {},
   "source": [
    ">3\n",
    "- Hashing with dictionary\n",
    "- Time complexity: O(n)\n",
    "- One pass hash table with enumerate"
   ]
  },
  {
   "cell_type": "code",
   "execution_count": null,
   "metadata": {},
   "outputs": [],
   "source": [
    "twosum = dict()\n",
    "for i, n in enumerate(nums):\n",
    "    complement = target - n\n",
    "    if complement in twosum:\n",
    "        return [twosum[complement], i]\n",
    "    twosum[n] = i"
   ]
  },
  {
   "cell_type": "markdown",
   "metadata": {},
   "source": [
    ">4\n",
    "- Sets\n",
    "- Time complexity: O(n^2)\n",
    "- One pass set with complements"
   ]
  },
  {
   "cell_type": "code",
   "execution_count": null,
   "metadata": {},
   "outputs": [],
   "source": [
    "seen = set()\n",
    "for i, n in enumerate(nums):\n",
    "    y = target - n\n",
    "    if n in seen:\n",
    "        return [nums.index(y), i]\n",
    "    seen.add(y)"
   ]
  },
  {
   "cell_type": "markdown",
   "metadata": {},
   "source": [
    ">5\n",
    "- Hashing with dictionary\n",
    "- Time complexity: O(n)\n",
    "- One pass hash table with complements"
   ]
  },
  {
   "cell_type": "code",
   "execution_count": null,
   "metadata": {},
   "outputs": [],
   "source": [
    "twosum = dict()\n",
    "for i, n in enumerate(nums):\n",
    "    complement = target - n\n",
    "    if n in twosum:\n",
    "        return [twosum[n], i]\n",
    "    twosum[complement] = i"
   ]
  }
 ],
 "metadata": {
  "language_info": {
   "name": "python"
  }
 },
 "nbformat": 4,
 "nbformat_minor": 2
}
