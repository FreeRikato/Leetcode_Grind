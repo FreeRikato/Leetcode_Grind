{
 "cells": [
  {
   "cell_type": "markdown",
   "metadata": {},
   "source": [
    "# 49. Group Anagrams\n",
    "## Medium"
   ]
  },
  {
   "cell_type": "markdown",
   "metadata": {},
   "source": [
    "- Hashing and Sorting with defaultdict\n",
    "- Time complexity: O(NKlogK)"
   ]
  },
  {
   "cell_type": "code",
   "execution_count": null,
   "metadata": {},
   "outputs": [],
   "source": [
    "anagrams = defaultdict(list)\n",
    "for s in strs:\n",
    "    sorted_word = str(sorted(s))\n",
    "    anagrams[sorted_word].append(s)\n",
    "return list(anagrams.values())"
   ]
  },
  {
   "cell_type": "code",
   "execution_count": null,
   "metadata": {},
   "outputs": [],
   "source": [
    "anagrams = defaultdict(list)\n",
    "for s in strs: anagrams[str(sorted(s))].append(s)\n",
    "return list(anagrams.values())"
   ]
  },
  {
   "cell_type": "markdown",
   "metadata": {},
   "source": [
    "- Hashing with defaultdict and Count for each letter in `[0] * 26`\n",
    "- Time complexity: O(NK)\n",
    "- To better understand the code,\n",
    "  1. `defaultdict(list)` is a dictionary with default value as a list\n",
    "  2. Iterate over the words in `strs`\n",
    "     1. `letters = [0] * 26` is a list of 26 zeros\n",
    "     2. Iterate over the letters in `word`\n",
    "        -  `letters[ord(letter) - ord('a')] += 1` is to count the letter in `word`\n",
    "     3. `anagrams[tuple(letters)].append(word)` is to append the word to the list of anagrams"
   ]
  },
  {
   "cell_type": "code",
   "execution_count": null,
   "metadata": {},
   "outputs": [],
   "source": [
    "anagrams = defaultdict(list)\n",
    "for s in strs:\n",
    "    letters = [0] * 26\n",
    "    for c in s:\n",
    "        letters[ord(c) - ord('a')] += 1\n",
    "    anagrams[tuple(letters)].append(s)\n",
    "return anagrams.values()"
   ]
  }
 ],
 "metadata": {
  "language_info": {
   "name": "python"
  }
 },
 "nbformat": 4,
 "nbformat_minor": 2
}
