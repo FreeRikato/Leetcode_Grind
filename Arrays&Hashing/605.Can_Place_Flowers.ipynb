{
 "cells": [
  {
   "cell_type": "markdown",
   "metadata": {},
   "source": [
    "# 605. Can Place Flowers\n",
    "## Easy"
   ]
  },
  {
   "cell_type": "markdown",
   "metadata": {},
   "source": [
    "- Iterating through the array, if the current element is 0 and the previous and next elements are also 0, then we can plant a flower at the current position.\n",
    "- Also, we need to check the first and last elements separately.\n",
    "- Time Complexity: O(n)"
   ]
  },
  {
   "cell_type": "code",
   "execution_count": null,
   "metadata": {},
   "outputs": [],
   "source": [
    "if n == 0:\n",
    "    return True\n",
    "\n",
    "for i in range(len(flowerbed)):\n",
    "    # check condition to plant new flowers\n",
    "    if flowerbed[i] == 0 and (i == 0 or flowerbed[i-1] == 0) and (i == len(flowerbed)-1 or flowerbed[i+1] == 0):\n",
    "        flowerbed[i] = 1\n",
    "        n -= 1\n",
    "        # if n new flowers can be planted in the flowerbed, n == 0\n",
    "        if n == 0:\n",
    "            return True\n",
    "\n",
    "return False"
   ]
  },
  {
   "cell_type": "markdown",
   "metadata": {},
   "source": [
    "- Adding a 0 at the beginning and end of the array simplifies the code.\n",
    "- Iterating through the array, if the current element is 0 and the previous and next elements are also 0, then we can plant a flower at the current position.\n",
    "- Time Complexity: O(n)"
   ]
  },
  {
   "cell_type": "code",
   "execution_count": null,
   "metadata": {},
   "outputs": [],
   "source": [
    "f = [0] + flowerbed + [0]\n",
    "for i in range(1, len(f) - 1):\n",
    "    if f[i - 1] == 0 and f[i] == 0 and f[i + 1] == 0:\n",
    "        f[i] = 1\n",
    "        n-=1\n",
    "return n<=0"
   ]
  },
  {
   "cell_type": "markdown",
   "metadata": {},
   "source": [
    "- empty variable is used to count the number of empty spaces between two 1s.\n",
    "- If empty is greater than 2, then we can plant a flower at the current position.\n",
    "- Time Complexity: O(n)"
   ]
  },
  {
   "cell_type": "code",
   "execution_count": null,
   "metadata": {},
   "outputs": [],
   "source": [
    "empty = 0 if flowerbed[0] else 1\n",
    "\n",
    "for f in flowerbed:\n",
    "    if f:\n",
    "        n -= int((empty - 1) / 2) \n",
    "        empty = 0\n",
    "    else:\n",
    "        empty += 1\n",
    "n -=(empty) // 2\n",
    "return n <= 0"
   ]
  }
 ],
 "metadata": {
  "language_info": {
   "name": "python"
  }
 },
 "nbformat": 4,
 "nbformat_minor": 2
}
